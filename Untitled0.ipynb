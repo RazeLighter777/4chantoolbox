{
  "nbformat": 4,
  "nbformat_minor": 0,
  "metadata": {
    "colab": {
      "name": "Untitled0.ipynb",
      "provenance": [],
      "collapsed_sections": [],
      "toc_visible": true,
      "authorship_tag": "ABX9TyMCCRWYQZqmN8gEDgtv4w+1",
      "include_colab_link": true
    },
    "kernelspec": {
      "name": "python3",
      "display_name": "Python 3"
    },
    "accelerator": "GPU"
  },
  "cells": [
    {
      "cell_type": "markdown",
      "metadata": {
        "id": "view-in-github",
        "colab_type": "text"
      },
      "source": [
        "<a href=\"https://colab.research.google.com/github/RazeLighter777/4chantoolbox/blob/master/Untitled0.ipynb\" target=\"_parent\"><img src=\"https://colab.research.google.com/assets/colab-badge.svg\" alt=\"Open In Colab\"/></a>"
      ]
    },
    {
      "cell_type": "code",
      "metadata": {
        "id": "6qUtFqiZr-pv",
        "outputId": "2044b120-dfbb-460a-a891-caef48bcff85",
        "colab": {
          "base_uri": "https://localhost:8080/",
          "height": 1000
        }
      },
      "source": [
        "!pip install tensorflow-gpu==1.15 gpt-2-simple\n",
        "import tensorflow\n",
        "import gpt_2_simple as gpt2\n",
        "import os\n",
        "import requests\n",
        "\n",
        "model_name = \"355M\"\n",
        "print(\"Num GPUs Available: \", len(tensorflow.config.experimental.list_physical_devices('GPU')))\n",
        "if not os.path.isdir(os.path.join(\"models\", model_name)):\n",
        "\tprint(f\"Downloading {model_name} model...\")\n",
        "\tgpt2.download_gpt2(model_name=model_name)   # model is saved into current directory under /models/124M/\n",
        "\n",
        "\n",
        "file_name = \"lotr.txt\"\n",
        "    \n",
        "\n",
        "sess = gpt2.start_tf_sess()\n",
        "\n",
        "gpt2.load_gpt2(sess)\n",
        "\n",
        "gpt2.generate(sess, prefix='Morgoth')\n"
      ],
      "execution_count": 1,
      "outputs": [
        {
          "output_type": "stream",
          "text": [
            "Requirement already satisfied: tensorflow-gpu==1.15 in /usr/local/lib/python3.6/dist-packages (1.15.0)\n",
            "Requirement already satisfied: gpt-2-simple in /usr/local/lib/python3.6/dist-packages (0.7.1)\n",
            "Requirement already satisfied: six>=1.10.0 in /usr/local/lib/python3.6/dist-packages (from tensorflow-gpu==1.15) (1.15.0)\n",
            "Requirement already satisfied: keras-applications>=1.0.8 in /usr/local/lib/python3.6/dist-packages (from tensorflow-gpu==1.15) (1.0.8)\n",
            "Requirement already satisfied: gast==0.2.2 in /usr/local/lib/python3.6/dist-packages (from tensorflow-gpu==1.15) (0.2.2)\n",
            "Requirement already satisfied: tensorboard<1.16.0,>=1.15.0 in /usr/local/lib/python3.6/dist-packages (from tensorflow-gpu==1.15) (1.15.0)\n",
            "Requirement already satisfied: opt-einsum>=2.3.2 in /usr/local/lib/python3.6/dist-packages (from tensorflow-gpu==1.15) (3.3.0)\n",
            "Requirement already satisfied: protobuf>=3.6.1 in /usr/local/lib/python3.6/dist-packages (from tensorflow-gpu==1.15) (3.12.4)\n",
            "Requirement already satisfied: tensorflow-estimator==1.15.1 in /usr/local/lib/python3.6/dist-packages (from tensorflow-gpu==1.15) (1.15.1)\n",
            "Requirement already satisfied: termcolor>=1.1.0 in /usr/local/lib/python3.6/dist-packages (from tensorflow-gpu==1.15) (1.1.0)\n",
            "Requirement already satisfied: grpcio>=1.8.6 in /usr/local/lib/python3.6/dist-packages (from tensorflow-gpu==1.15) (1.32.0)\n",
            "Requirement already satisfied: wrapt>=1.11.1 in /usr/local/lib/python3.6/dist-packages (from tensorflow-gpu==1.15) (1.12.1)\n",
            "Requirement already satisfied: absl-py>=0.7.0 in /usr/local/lib/python3.6/dist-packages (from tensorflow-gpu==1.15) (0.10.0)\n",
            "Requirement already satisfied: astor>=0.6.0 in /usr/local/lib/python3.6/dist-packages (from tensorflow-gpu==1.15) (0.8.1)\n",
            "Requirement already satisfied: numpy<2.0,>=1.16.0 in /usr/local/lib/python3.6/dist-packages (from tensorflow-gpu==1.15) (1.18.5)\n",
            "Requirement already satisfied: google-pasta>=0.1.6 in /usr/local/lib/python3.6/dist-packages (from tensorflow-gpu==1.15) (0.2.0)\n",
            "Requirement already satisfied: keras-preprocessing>=1.0.5 in /usr/local/lib/python3.6/dist-packages (from tensorflow-gpu==1.15) (1.1.2)\n",
            "Requirement already satisfied: wheel>=0.26 in /usr/local/lib/python3.6/dist-packages (from tensorflow-gpu==1.15) (0.35.1)\n",
            "Requirement already satisfied: toposort in /usr/local/lib/python3.6/dist-packages (from gpt-2-simple) (1.5)\n",
            "Requirement already satisfied: tqdm in /usr/local/lib/python3.6/dist-packages (from gpt-2-simple) (4.41.1)\n",
            "Requirement already satisfied: regex in /usr/local/lib/python3.6/dist-packages (from gpt-2-simple) (2019.12.20)\n",
            "Requirement already satisfied: requests in /usr/local/lib/python3.6/dist-packages (from gpt-2-simple) (2.23.0)\n",
            "Requirement already satisfied: h5py in /usr/local/lib/python3.6/dist-packages (from keras-applications>=1.0.8->tensorflow-gpu==1.15) (2.10.0)\n",
            "Requirement already satisfied: setuptools>=41.0.0 in /usr/local/lib/python3.6/dist-packages (from tensorboard<1.16.0,>=1.15.0->tensorflow-gpu==1.15) (50.3.0)\n",
            "Requirement already satisfied: markdown>=2.6.8 in /usr/local/lib/python3.6/dist-packages (from tensorboard<1.16.0,>=1.15.0->tensorflow-gpu==1.15) (3.2.2)\n",
            "Requirement already satisfied: werkzeug>=0.11.15 in /usr/local/lib/python3.6/dist-packages (from tensorboard<1.16.0,>=1.15.0->tensorflow-gpu==1.15) (1.0.1)\n",
            "Requirement already satisfied: idna<3,>=2.5 in /usr/local/lib/python3.6/dist-packages (from requests->gpt-2-simple) (2.10)\n",
            "Requirement already satisfied: urllib3!=1.25.0,!=1.25.1,<1.26,>=1.21.1 in /usr/local/lib/python3.6/dist-packages (from requests->gpt-2-simple) (1.24.3)\n",
            "Requirement already satisfied: chardet<4,>=3.0.2 in /usr/local/lib/python3.6/dist-packages (from requests->gpt-2-simple) (3.0.4)\n",
            "Requirement already satisfied: certifi>=2017.4.17 in /usr/local/lib/python3.6/dist-packages (from requests->gpt-2-simple) (2020.6.20)\n",
            "Requirement already satisfied: importlib-metadata; python_version < \"3.8\" in /usr/local/lib/python3.6/dist-packages (from markdown>=2.6.8->tensorboard<1.16.0,>=1.15.0->tensorflow-gpu==1.15) (1.7.0)\n",
            "Requirement already satisfied: zipp>=0.5 in /usr/local/lib/python3.6/dist-packages (from importlib-metadata; python_version < \"3.8\"->markdown>=2.6.8->tensorboard<1.16.0,>=1.15.0->tensorflow-gpu==1.15) (3.1.0)\n",
            "WARNING:tensorflow:\n",
            "The TensorFlow contrib module will not be included in TensorFlow 2.0.\n",
            "For more information, please see:\n",
            "  * https://github.com/tensorflow/community/blob/master/rfcs/20180907-contrib-sunset.md\n",
            "  * https://github.com/tensorflow/addons\n",
            "  * https://github.com/tensorflow/io (for I/O related ops)\n",
            "If you depend on functionality not listed there, please file an issue.\n",
            "\n",
            "Num GPUs Available:  1\n",
            "Loading checkpoint checkpoint/run1/model-1000\n",
            "INFO:tensorflow:Restoring parameters from checkpoint/run1/model-1000\n",
            "Morgoth \n",
            "\n",
            "-arising and driving his Dark Power. \n",
            "\n",
            "-Then it was that the Odívan and Gwindor were \n",
            "blocked  in their march, and  their  way  was  blocked  by \n",
            "an  evil  shape  that  Mara had made,  that  was  able  to \n",
            "carry off  their  hearts  and  minds,  and  the  hobbits  could \n",
            "not see it  for  a  long  while.  It  would  be  long  before  they  could \n",
            "come  to  the  path  to  the  door  of  the  cave.  They  would  have  to \n",
            "wait  for  the  gentle  footfalls  and  the  sound of  water  to  cross  the \n",
            "river, but they were now safely in the wood, and had a few \n",
            "guessings as to the way down the side of the hill. They  had  been warned \n",
            "not to enter the cave at any rate, and they were not at all  discouraged. They \n",
            "had not gone far far  on  their long journey when they found  out  that  the \n",
            "Dwarves, as was their custom, had prepared a small party for them. They \n",
            "called  them  the  Dwarves  and  the  Elves  and  the  Dwarves  and  the  Elves,  and \n",
            "the Dwarves were called  the  Dwarves.  If  the  Dwarves  had  set  out  on  their \n",
            "long journey,  they  would  have  found  their way  by  the  old  ways,  and \n",
            "dwelt  in  the  woods; but they were not brave enough to go that way \n",
            "now. There they were met by Gandalf, who had come to help them. \n",
            "\n",
            "-The Dwarves, it is true, were not much  better off than the Elves, as \n",
            "Mara  had  warned them so; but they were not much better. They were \n",
            "very poor,  and they  had  no  fire, \n",
            "nor  anything  to  cook  or  boil  for  their  fires,  and they  had  no \n",
            "cooking  to  do, and they had  no  pots,  nor  any  cooking-ware, \n",
            "nor any  cooking-bowls. They could not make very much sauce; they had \n",
            "only a larder, and  it  was  not very  good. They had  very little to  eat, \n",
            "and the food they had was prepared for them by Mr. Baggins, who \n",
            "had come to help. He  was  very  poor,  and  had  no  weapons,  and  he \n",
            "was  very  poor  at  walking  or  hunting,  and he had  never  had  much \n",
            "happiness before, and he was not much good at catching mice. He  had little \n",
            "help  from  the  Elves,  and  there  was  no  sign  of  any  in  the  forest. \n",
            "Gandalf,  also,  was  poor,  and  he  was  poor,  too,  for the Dwarves. He  had \n",
            "little food, and he was hungry. He did not know how to make a fire, \n",
            "and he did not know how to hunt, and he was very weak. He had the most \n",
            "danger  of all,  because  he  was  invisible,  and  he  was  very  strong. He  was \n",
            "very strong,  but  he  was  not  strong  enough  to  catch  a  wolf  with  his \n",
            "hands.  The  wolves  were  very  strong,  and  very  hungry,  and  they  were \n",
            "very  persistent,  and  the  goblins  were  very  afraid.  There  was  a  great \n",
            "fight  in  the forest,  and  Gandalf  was  hurt  badly,  and  he  was  sent  to  the \n",
            "woods of Rohan. \n",
            "\n",
            "-The Great Goblin War \n",
            "Gandalf and Bilbo's adventures in the forest of Rohan \n",
            "In the year that was the first anniversary of the Battle of the Green Hill, \n",
            "and in the year that Frodo's mother was born. The wizard and hobbit were \n",
            "called  the  new  hobbits  and  the  goblins  for many years,  until  finally \n",
            "Gandalf  was  given  the\n"
          ],
          "name": "stdout"
        }
      ]
    },
    {
      "cell_type": "code",
      "metadata": {
        "id": "XEN_K7aRBTQ-"
      },
      "source": [
        "from google.colab import drive\n",
        "drive.mount('/content/drive')"
      ],
      "execution_count": null,
      "outputs": []
    }
  ]
}